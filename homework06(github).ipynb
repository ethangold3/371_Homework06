{
 "cells": [
  {
   "cell_type": "markdown",
   "metadata": {
    "editable": true,
    "slideshow": {
     "slide_type": ""
    },
    "tags": [
     "AST"
    ]
   },
   "source": [
    "<style>\n",
    "    @media print{\n",
    "        body {\n",
    "            position:relative !important;\n",
    "        }\n",
    "        .celltag_new_page {\n",
    "            page-break-before: always !important;\n",
    "        }\n",
    "    }\n",
    "</style>\n",
    "# COMPSCI 371 Homework 6"
   ]
  },
  {
   "cell_type": "markdown",
   "metadata": {
    "editable": true,
    "slideshow": {
     "slide_type": ""
    },
    "tags": [
     "T"
    ]
   },
   "source": [
    "_**Group Members:**_"
   ]
  },
  {
   "cell_type": "markdown",
   "metadata": {
    "editable": true,
    "slideshow": {
     "slide_type": ""
    },
    "tags": [
     "AT"
    ]
   },
   "source": [
    "### Problem 0 (3 points)"
   ]
  },
  {
   "cell_type": "markdown",
   "metadata": {
    "editable": true,
    "slideshow": {
     "slide_type": ""
    },
    "tags": [
     "AST"
    ]
   },
   "source": [
    "## Part 1: The Logistic and the Softmax"
   ]
  },
  {
   "cell_type": "markdown",
   "metadata": {
    "editable": true,
    "slideshow": {
     "slide_type": ""
    },
    "tags": [
     "AST"
    ]
   },
   "source": [
    "### Problem 1.1 (Exam Style)"
   ]
  },
  {
   "cell_type": "markdown",
   "metadata": {},
   "source": [
    "$$s_0(\\mathbf{x})=\\sigma_0(\\mathbf{x})$$\n",
    "$$\\frac{e^{b_0 + \\mathbf{w}_0\\cdot  \\mathbf{x}}}{e^{b_0 + \\mathbf{w}_0\\cdot \\mathbf{x}} + e^{b_1 + \\mathbf{w}_1\\cdot \\mathbf{x}}}\n",
    "=\n",
    "\\frac{1}{1 + e^{a}}$$\n",
    "\n",
    "$$\\frac{e^{b_0 + \\mathbf{w}_0\\cdot  \\mathbf{x}}}{e^{b_0 + \\mathbf{w}_0\\cdot \\mathbf{x}} + e^{b_1 + \\mathbf{w}_1\\cdot \\mathbf{x}}}\n",
    "=\n",
    "\\frac{1}{1 + e^{a}}(\\frac{e^{b_0 + \\mathbf{w}_0\\cdot  \\mathbf{x}}}{e^{b_0 + \\mathbf{w}_0\\cdot  \\mathbf{x}}})$$\n",
    "\n",
    "$$\\frac{e^{b_0 + \\mathbf{w}_0\\cdot  \\mathbf{x}}}{e^{b_0 + \\mathbf{w}_0\\cdot \\mathbf{x}} + e^{b_1 + \\mathbf{w}_1\\cdot \\mathbf{x}}}\n",
    "=\n",
    "\\frac{e^{b_0 + \\mathbf{w}_0\\cdot  \\mathbf{x}}}{e^{b_0 + \\mathbf{w}_0\\cdot  \\mathbf{x}} + \n",
    "e^{a}*e^{b_0 + \\mathbf{w}_0\\cdot  \\mathbf{x}}}$$"
   ]
  },
  {
   "cell_type": "markdown",
   "metadata": {},
   "source": [
    "So we set the differing exponents equal to each other"
   ]
  },
  {
   "cell_type": "markdown",
   "metadata": {},
   "source": [
    "$$b_1 + \\mathbf{w}_1\\cdot \\mathbf{x}=a+b_0 + \\mathbf{w}_0\\cdot \\mathbf{x}$$"
   ]
  },
  {
   "cell_type": "markdown",
   "metadata": {},
   "source": [
    "And are left with"
   ]
  },
  {
   "cell_type": "markdown",
   "metadata": {},
   "source": [
    "$$a=(b_0-b_1)+(\\mathbf{w}_1\\cdot\\mathbf{x}-\\mathbf{w}_0\\cdot\\mathbf{x})"
   ]
  },
  {
   "cell_type": "markdown",
   "metadata": {},
   "source": [
    "Therefore,\n",
    "\n",
    "$$b=(b_0-b_1)$$\n",
    "\n",
    "$$\\mathbf{w}=\\mathbf{w}_1-\\mathbf{w}_0$$"
   ]
  },
  {
   "cell_type": "markdown",
   "metadata": {},
   "source": [
    "When we set $s_1(\\mathbf{x})=\\sigma_1(\\mathbf{x})$ and follow the same logic, we arrive at the same conclusion."
   ]
  },
  {
   "cell_type": "markdown",
   "metadata": {},
   "source": [
    "When $d=2$, $b_0=2$, $\\mathbf{w}_0=(7,1)$, $b_1=0$ and $\\mathbf{w}_1=(3,4)$, \n",
    "\n",
    "$b=-2$\n",
    "\n",
    "$\\mathbf{w}=(-4,3)$"
   ]
  },
  {
   "cell_type": "markdown",
   "metadata": {
    "editable": true,
    "slideshow": {
     "slide_type": ""
    },
    "tags": [
     "AST"
    ]
   },
   "source": [
    "### Problem 1.2 (Exam Style)"
   ]
  },
  {
   "cell_type": "markdown",
   "metadata": {},
   "source": [
    "$b_0 = 7, b_1 = 12, \\mathbf{w}_1 = (7,1), \\mathbf{w}_0 = (1,1)$"
   ]
  },
  {
   "cell_type": "markdown",
   "metadata": {},
   "source": [
    "$b_0'=1, b_1'=6, \\mathbf{w}_1'=(8,4), \\mathbf{w}_0'=(2,4)$"
   ]
  },
  {
   "cell_type": "markdown",
   "metadata": {
    "editable": true,
    "slideshow": {
     "slide_type": ""
    },
    "tags": [
     "AST"
    ]
   },
   "source": [
    "## Part 2: The Soft-Max and Cross-Entropy"
   ]
  },
  {
   "cell_type": "markdown",
   "metadata": {
    "editable": true,
    "slideshow": {
     "slide_type": ""
    },
    "tags": [
     "AST"
    ]
   },
   "source": [
    "### Problem 2.1"
   ]
  },
  {
   "cell_type": "code",
   "execution_count": 1,
   "metadata": {},
   "outputs": [],
   "source": [
    "import numpy as np\n",
    "def scores(a):\n",
    "    \n",
    "    #takes numpy vector a of size n activations\n",
    "    #returns nx2 numpy array of floating point numbers\n",
    "    #each row is the s1 and s0 corresponding to a\n",
    "    return\n",
    "    \n",
    "    \n",
    "def cross_entropy(y,p):\n",
    "    #takes in n true values in y, which are either 0 or 1\n",
    "    #p is what we get from scores\n",
    "    #returns numpy vector with n entries, each row has cross entropy loss for row i, use natural log\n",
    "    return\n",
    "\n",
    "def a_loss(y,a):\n",
    "    #takes same input a as scores and same y as cross entropy\n",
    "    #returns numpy vector with n floats, each row is cross entropy-loss but using a instead of p"
   ]
  },
  {
   "cell_type": "markdown",
   "metadata": {
    "editable": true,
    "slideshow": {
     "slide_type": ""
    },
    "tags": [
     "AST"
    ]
   },
   "source": [
    "### Problem 2.2 (Exam Style)"
   ]
  },
  {
   "cell_type": "markdown",
   "metadata": {
    "editable": true,
    "slideshow": {
     "slide_type": ""
    },
    "tags": [
     "AST"
    ]
   },
   "source": [
    "## Part 3: The General Logistic-Regression Classifier "
   ]
  },
  {
   "cell_type": "code",
   "execution_count": 2,
   "metadata": {
    "editable": true,
    "slideshow": {
     "slide_type": ""
    },
    "tags": [
     "AST"
    ]
   },
   "outputs": [],
   "source": [
    "import urllib.request\n",
    "import ssl\n",
    "from os import path as osp\n",
    "import shutil"
   ]
  },
  {
   "cell_type": "code",
   "execution_count": 3,
   "metadata": {
    "editable": true,
    "slideshow": {
     "slide_type": ""
    },
    "tags": [
     "AST"
    ]
   },
   "outputs": [],
   "source": [
    "def retrieve(file_name, semester='fall23', homework=6):\n",
    "    if osp.exists(file_name):\n",
    "        print('Using previously downloaded file {}'.format(file_name))\n",
    "    else:\n",
    "        context = ssl._create_unverified_context()\n",
    "        fmt = 'https://www2.cs.duke.edu/courses/{}/compsci371/homework/{}/{}'\n",
    "        url = fmt.format(semester, homework, file_name)\n",
    "        with urllib.request.urlopen(url, context=context) as response:\n",
    "            with open(file_name, 'wb') as file:\n",
    "                shutil.copyfileobj(response, file)\n",
    "        print('Downloaded file {}'.format(file_name))"
   ]
  },
  {
   "cell_type": "code",
   "execution_count": 4,
   "metadata": {
    "editable": true,
    "slideshow": {
     "slide_type": ""
    },
    "tags": [
     "AST"
    ]
   },
   "outputs": [
    {
     "name": "stdout",
     "output_type": "stream",
     "text": [
      "Downloaded file sgd.py\n"
     ]
    }
   ],
   "source": [
    "retrieve('sgd.py')\n",
    "from sgd import sgd, step"
   ]
  },
  {
   "cell_type": "code",
   "execution_count": 5,
   "metadata": {
    "editable": true,
    "slideshow": {
     "slide_type": ""
    },
    "tags": [
     "AST"
    ]
   },
   "outputs": [
    {
     "name": "stdout",
     "output_type": "stream",
     "text": [
      "Downloaded file classification_data.pkl\n",
      "Downloaded file show_data.py\n"
     ]
    }
   ],
   "source": [
    "import pickle\n",
    "\n",
    "file_name = 'classification_data.pkl'\n",
    "retrieve(file_name, homework=5)\n",
    "with open(file_name, 'rb') as file:\n",
    "    datasets = pickle.load(file)\n",
    "\n",
    "retrieve('show_data.py', homework=5)\n",
    "from show_data import show_data"
   ]
  },
  {
   "cell_type": "markdown",
   "metadata": {
    "editable": true,
    "slideshow": {
     "slide_type": ""
    },
    "tags": [
     "AST"
    ]
   },
   "source": [
    "### Problem 3.1"
   ]
  },
  {
   "cell_type": "code",
   "execution_count": 6,
   "metadata": {
    "editable": true,
    "slideshow": {
     "slide_type": ""
    },
    "tags": [
     "AST"
    ]
   },
   "outputs": [],
   "source": [
    "from autograd import numpy as anp"
   ]
  },
  {
   "cell_type": "markdown",
   "metadata": {
    "editable": true,
    "slideshow": {
     "slide_type": ""
    },
    "tags": [
     "AST"
    ]
   },
   "source": [
    "### Problem 3.2 (Exam Style)"
   ]
  },
  {
   "cell_type": "markdown",
   "metadata": {
    "editable": true,
    "slideshow": {
     "slide_type": ""
    },
    "tags": [
     "AST"
    ]
   },
   "source": [
    "### Problem 3.3 (Exam Style)"
   ]
  },
  {
   "cell_type": "markdown",
   "metadata": {
    "editable": true,
    "slideshow": {
     "slide_type": ""
    },
    "tags": [
     "AST"
    ]
   },
   "source": [
    "## Part 4: Cross-Validation "
   ]
  },
  {
   "cell_type": "code",
   "execution_count": 7,
   "metadata": {
    "editable": true,
    "slideshow": {
     "slide_type": ""
    },
    "tags": [
     "AST"
    ]
   },
   "outputs": [],
   "source": [
    "from sklearn.linear_model import LogisticRegression"
   ]
  },
  {
   "cell_type": "code",
   "execution_count": 8,
   "metadata": {
    "editable": true,
    "slideshow": {
     "slide_type": ""
    },
    "tags": [
     "AST"
    ]
   },
   "outputs": [
    {
     "name": "stdout",
     "output_type": "stream",
     "text": [
      "Downloaded file mnist.pickle\n"
     ]
    }
   ],
   "source": [
    "file_name = 'mnist.pickle'\n",
    "retrieve(file_name, homework=2)\n",
    "\n",
    "with open(file_name, 'rb') as file:\n",
    "    mnist = pickle.load(file)"
   ]
  },
  {
   "cell_type": "code",
   "execution_count": 40,
   "metadata": {
    "editable": true,
    "slideshow": {
     "slide_type": ""
    },
    "tags": [
     "AST"
    ]
   },
   "outputs": [],
   "source": [
    "### Problem 4.1\n",
    "\n",
    "\"\"\"\n",
    "procedure CrossValidation(H, Π, T, K, `)\n",
    "    {V1, . . . , VK} = Split(T, K) .                 Split T in K approximately equal-sized sets at random\n",
    "    Lˆ = ∞ .                                         Will hold the lowest risk over Π\n",
    "    for π ∈ Π do\n",
    "        s, s2 = 0, 0 .                               Will hold sum of risks and their squares to compute risk mean and variance\n",
    "        for k = 1, . . . , K do\n",
    "            Tk = T \\ Vk .                            Use all of T except Vk as training set\n",
    "            h ∈ arg minh'∈Hπ LTk(h') .               Use the loss l to compute h = ERMTk(Hπ)\n",
    "            L = LVk(h) .                             Use the loss l to compute the risk of h on Vk\n",
    "            (s, s2) = (s + L, s2 + L2) .             Keep track of quantities to compute risk mean and variance\n",
    "        end for\n",
    "        L = s/K .                                    Sample mean of the risk over the K folds\n",
    "        if L < Lˆ then\n",
    "            σ2 = (s2 − s2/K)/(K − 1) .               Sample variance of the risk over the K folds\n",
    "            (πˆ,L, ˆ σˆ2) = (π, L, σ2) .             Keep track of the best hyper-parameters and their risk statistics\n",
    "        end if\n",
    "    end for\n",
    "    hˆ = arg minh∈Hπˆ LT (h) .                       Train predictor afresh on all of T with the best hyper-parameters\n",
    "    return (πˆ, h, ˆ L, ˆ σˆ2) .                     Return best hyper-parameters, predictor, and risk statistics\n",
    "end procedure\n",
    "\"\"\"\n",
    "\n",
    "def cross_validation(t, c_values, n_folds):\n",
    "    best_accuracy = 0\n",
    "    best_h = None\n",
    "    best_c = None\n",
    "    variance = 0\n",
    "    validations = []\n",
    "\n",
    "    xSplit = np.array_split(t.x, n_folds)\n",
    "    ySplit = np.array_split(t.y, n_folds)\n",
    "    dataSplit = [{'x': x_split, 'y': y_split} for x_split, y_split in zip(xSplit, ySplit)]\n",
    "\n",
    "    for i in c_values:\n",
    "        acc = 0\n",
    "        accSq = 0\n",
    "        for k in range(n_folds):\n",
    "            Vk = dataSplit[k]\n",
    "            tk = dataSplit - Vk\n",
    "            \n",
    "            xVk, yVk = Vk[:, :-1], Vk[:, -1]\n",
    "            xtk, ytk = tk[:, :-1], tk[:, -1]\n",
    "            \n",
    "            h = LogisticRegression(C=i, max_iter=10000)\n",
    "            h.fit(xtk, ytk)\n",
    "            \n",
    "            accuracy = h.score(xVk, yVk)\n",
    "            acc += accuracy\n",
    "            accSq += accuracy ** 2\n",
    "            \n",
    "        accAvg = acc / n_folds\n",
    "        variance = (accSq - (acc ** 2) / n_folds) / (n_folds - 1)\n",
    "        validations.append(mean_accuracy)\n",
    "        \n",
    "        if accAvg > best_accuracy:\n",
    "            best_accuracy = accAvg\n",
    "            best_h = h\n",
    "            best_c = i\n",
    "            best_variance = variance\n",
    "            \n",
    "            \n",
    "    return best_h, best_c, best_accuracy, best_variance, validation_accuracies\n",
    "    "
   ]
  },
  {
   "cell_type": "code",
   "execution_count": 41,
   "metadata": {},
   "outputs": [
    {
     "ename": "ValueError",
     "evalue": "zero-dimensional arrays cannot be concatenated",
     "output_type": "error",
     "traceback": [
      "\u001b[0;31m---------------------------------------------------------------------------\u001b[0m",
      "\u001b[0;31mValueError\u001b[0m                                Traceback (most recent call last)",
      "Cell \u001b[0;32mIn[41], line 2\u001b[0m\n\u001b[1;32m      1\u001b[0m t, c_values, n_folds \u001b[38;5;241m=\u001b[39m mnist\u001b[38;5;241m.\u001b[39mtrain, np\u001b[38;5;241m.\u001b[39mlogspace(\u001b[38;5;241m-\u001b[39m\u001b[38;5;241m3\u001b[39m, \u001b[38;5;241m3\u001b[39m, num\u001b[38;5;241m=\u001b[39m\u001b[38;5;241m20\u001b[39m), \u001b[38;5;241m3\u001b[39m\n\u001b[0;32m----> 2\u001b[0m \u001b[43mcross_validation\u001b[49m\u001b[43m(\u001b[49m\u001b[43mt\u001b[49m\u001b[43m,\u001b[49m\u001b[43m \u001b[49m\u001b[43mc_values\u001b[49m\u001b[43m,\u001b[49m\u001b[43m \u001b[49m\u001b[43mn_folds\u001b[49m\u001b[43m)\u001b[49m\n",
      "Cell \u001b[0;32mIn[40], line 42\u001b[0m, in \u001b[0;36mcross_validation\u001b[0;34m(t, c_values, n_folds)\u001b[0m\n\u001b[1;32m     40\u001b[0m \u001b[38;5;28;01mfor\u001b[39;00m k \u001b[38;5;129;01min\u001b[39;00m \u001b[38;5;28mrange\u001b[39m(n_folds):\n\u001b[1;32m     41\u001b[0m     Vk \u001b[38;5;241m=\u001b[39m dataSplit[k]\n\u001b[0;32m---> 42\u001b[0m     tk \u001b[38;5;241m=\u001b[39m \u001b[43mnp\u001b[49m\u001b[38;5;241;43m.\u001b[39;49m\u001b[43mconcatenate\u001b[49m\u001b[43m(\u001b[49m\u001b[43m[\u001b[49m\u001b[43mdataSplit\u001b[49m\u001b[43m[\u001b[49m\u001b[43mj\u001b[49m\u001b[43m]\u001b[49m\u001b[43m \u001b[49m\u001b[38;5;28;43;01mfor\u001b[39;49;00m\u001b[43m \u001b[49m\u001b[43mj\u001b[49m\u001b[43m \u001b[49m\u001b[38;5;129;43;01min\u001b[39;49;00m\u001b[43m \u001b[49m\u001b[38;5;28;43mrange\u001b[39;49m\u001b[43m(\u001b[49m\u001b[43mn_folds\u001b[49m\u001b[43m)\u001b[49m\u001b[43m \u001b[49m\u001b[38;5;28;43;01mif\u001b[39;49;00m\u001b[43m \u001b[49m\u001b[43mj\u001b[49m\u001b[43m \u001b[49m\u001b[38;5;241;43m!=\u001b[39;49m\u001b[43m \u001b[49m\u001b[43mk\u001b[49m\u001b[43m]\u001b[49m\u001b[43m)\u001b[49m\n\u001b[1;32m     44\u001b[0m     xVk, yVk \u001b[38;5;241m=\u001b[39m Vk[:, :\u001b[38;5;241m-\u001b[39m\u001b[38;5;241m1\u001b[39m], Vk[:, \u001b[38;5;241m-\u001b[39m\u001b[38;5;241m1\u001b[39m]\n\u001b[1;32m     45\u001b[0m     xtk, ytk \u001b[38;5;241m=\u001b[39m tk[:, :\u001b[38;5;241m-\u001b[39m\u001b[38;5;241m1\u001b[39m], tk[:, \u001b[38;5;241m-\u001b[39m\u001b[38;5;241m1\u001b[39m]\n",
      "\u001b[0;31mValueError\u001b[0m: zero-dimensional arrays cannot be concatenated"
     ]
    }
   ],
   "source": [
    "t, c_values, n_folds = mnist.train, np.logspace(-3, 3, num=20), 3\n",
    "cross_validation(t, c_values, n_folds)"
   ]
  },
  {
   "cell_type": "code",
   "execution_count": null,
   "metadata": {},
   "outputs": [],
   "source": []
  }
 ],
 "metadata": {
  "celltoolbar": "Tags",
  "kernelspec": {
   "display_name": "Python 3 (ipykernel)",
   "language": "python",
   "name": "python3"
  },
  "language_info": {
   "codemirror_mode": {
    "name": "ipython",
    "version": 3
   },
   "file_extension": ".py",
   "mimetype": "text/x-python",
   "name": "python",
   "nbconvert_exporter": "python",
   "pygments_lexer": "ipython3",
   "version": "3.11.5"
  },
  "pycharm": {
   "stem_cell": {
    "cell_type": "raw",
    "metadata": {
     "collapsed": false
    },
    "source": []
   }
  },
  "vscode": {
   "interpreter": {
    "hash": "81333996758e97eaa3d2fa8b0508a033ada6c2cd645638beea5f0eb0401d74bf"
   }
  }
 },
 "nbformat": 4,
 "nbformat_minor": 4
}
