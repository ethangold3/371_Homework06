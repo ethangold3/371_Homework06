{
 "cells": [
  {
   "cell_type": "markdown",
   "metadata": {
    "editable": true,
    "slideshow": {
     "slide_type": ""
    },
    "tags": [
     "AST"
    ]
   },
   "source": [
    "<style>\n",
    "    @media print{\n",
    "        body {\n",
    "            position:relative !important;\n",
    "        }\n",
    "        .celltag_new_page {\n",
    "            page-break-before: always !important;\n",
    "        }\n",
    "    }\n",
    "</style>\n",
    "# COMPSCI 371 Homework 6"
   ]
  },
  {
   "cell_type": "markdown",
   "metadata": {
    "editable": true,
    "slideshow": {
     "slide_type": ""
    },
    "tags": [
     "T"
    ]
   },
   "source": [
    "_**Group Members:**_"
   ]
  },
  {
   "cell_type": "markdown",
   "metadata": {
    "editable": true,
    "slideshow": {
     "slide_type": ""
    },
    "tags": [
     "AT"
    ]
   },
   "source": [
    "### Problem 0 (3 points)"
   ]
  },
  {
   "cell_type": "markdown",
   "metadata": {
    "editable": true,
    "slideshow": {
     "slide_type": ""
    },
    "tags": [
     "AST"
    ]
   },
   "source": [
    "## Part 1: The Logistic and the Softmax"
   ]
  },
  {
   "cell_type": "markdown",
   "metadata": {
    "editable": true,
    "slideshow": {
     "slide_type": ""
    },
    "tags": [
     "AST"
    ]
   },
   "source": [
    "### Problem 1.1 (Exam Style)"
   ]
  },
  {
   "cell_type": "markdown",
   "metadata": {},
   "source": [
    "$$s_0(\\mathbf{x})=\\sigma_0(\\mathbf{x})$$\n",
    "$$\\frac{e^{b_0 + \\mathbf{w}_0\\cdot  \\mathbf{x}}}{e^{b_0 + \\mathbf{w}_0\\cdot \\mathbf{x}} + e^{b_1 + \\mathbf{w}_1\\cdot \\mathbf{x}}}\n",
    "=\n",
    "\\frac{1}{1 + e^{a}}$$\n",
    "\n",
    "$$\\frac{e^{b_0 + \\mathbf{w}_0\\cdot  \\mathbf{x}}}{e^{b_0 + \\mathbf{w}_0\\cdot \\mathbf{x}} + e^{b_1 + \\mathbf{w}_1\\cdot \\mathbf{x}}}\n",
    "=\n",
    "\\frac{1}{1 + e^{a}}(\\frac{e^{b_0 + \\mathbf{w}_0\\cdot  \\mathbf{x}}}{e^{b_0 + \\mathbf{w}_0\\cdot  \\mathbf{x}}})$$\n",
    "\n",
    "$$\\frac{e^{b_0 + \\mathbf{w}_0\\cdot  \\mathbf{x}}}{e^{b_0 + \\mathbf{w}_0\\cdot \\mathbf{x}} + e^{b_1 + \\mathbf{w}_1\\cdot \\mathbf{x}}}\n",
    "=\n",
    "\\frac{e^{b_0 + \\mathbf{w}_0\\cdot  \\mathbf{x}}}{e^{b_0 + \\mathbf{w}_0\\cdot  \\mathbf{x}} + \n",
    "e^{a}*e^{b_0 + \\mathbf{w}_0\\cdot  \\mathbf{x}}}$$"
   ]
  },
  {
   "cell_type": "markdown",
   "metadata": {},
   "source": [
    "So we set the differing exponents equal to each other"
   ]
  },
  {
   "cell_type": "markdown",
   "metadata": {},
   "source": [
    "$$b_1 + \\mathbf{w}_1\\cdot \\mathbf{x}=a+b_0 + \\mathbf{w}_0\\cdot \\mathbf{x}$$"
   ]
  },
  {
   "cell_type": "markdown",
   "metadata": {},
   "source": [
    "And are left with"
   ]
  },
  {
   "cell_type": "markdown",
   "metadata": {},
   "source": [
    "$$a=(b_0-b_1)+(\\mathbf{w}_1\\cdot\\mathbf{x}-\\mathbf{w}_0\\cdot\\mathbf{x})"
   ]
  },
  {
   "cell_type": "markdown",
   "metadata": {},
   "source": [
    "Therefore,\n",
    "\n",
    "$$b=(b_0-b_1)$$\n",
    "\n",
    "$$\\mathbf{w}=\\mathbf{w}_1-\\mathbf{w}_0$$"
   ]
  },
  {
   "cell_type": "markdown",
   "metadata": {},
   "source": [
    "When we set $s_1(\\mathbf{x})=\\sigma_1(\\mathbf{x})$ and follow the same logic, we arrive at the same conclusion."
   ]
  },
  {
   "cell_type": "markdown",
   "metadata": {},
   "source": [
    "When $d=2$, $b_0=2$, $\\mathbf{w}_0=(7,1)$, $b_1=0$ and $\\mathbf{w}_1=(3,4)$, \n",
    "\n",
    "$b=-2$\n",
    "\n",
    "$\\mathbf{w}=(-4,3)$"
   ]
  },
  {
   "cell_type": "markdown",
   "metadata": {
    "editable": true,
    "slideshow": {
     "slide_type": ""
    },
    "tags": [
     "AST"
    ]
   },
   "source": [
    "### Problem 1.2 (Exam Style)"
   ]
  },
  {
   "cell_type": "markdown",
   "metadata": {},
   "source": [
    "$b_0 = 7, b_1 = 12, \\mathbf{w}_1 = (7,1), \\mathbf{w}_0 = (1,1)$"
   ]
  },
  {
   "cell_type": "markdown",
   "metadata": {},
   "source": [
    "$b_0'=1, b_1'=6, \\mathbf{w}_1'=(8,4), \\mathbf{w}_0'=(2,4)$"
   ]
  },
  {
   "cell_type": "markdown",
   "metadata": {
    "editable": true,
    "slideshow": {
     "slide_type": ""
    },
    "tags": [
     "AST"
    ]
   },
   "source": [
    "## Part 2: The Soft-Max and Cross-Entropy"
   ]
  },
  {
   "cell_type": "markdown",
   "metadata": {
    "editable": true,
    "slideshow": {
     "slide_type": ""
    },
    "tags": [
     "AST"
    ]
   },
   "source": [
    "### Problem 2.1"
   ]
  },
  {
   "cell_type": "code",
   "execution_count": null,
   "metadata": {},
   "outputs": [],
   "source": [
    "import numpy as np\n",
    "def scores(a):\n",
    "    \n",
    "    #takes numpy vector a of size n activations\n",
    "    #returns nx2 numpy array of floating point numbers\n",
    "    #each row is the s1 and s0 corresponding to a\n",
    "    return\n",
    "    \n",
    "    \n",
    "def cross_entropy(y,p):\n",
    "    #takes in n true values in y, which are either 0 or 1\n",
    "    #p is what we get from scores\n",
    "    #returns numpy vector with n entries, each row has cross entropy loss for row i, use natural log\n",
    "    return\n",
    "\n",
    "def a_loss(y,a):\n",
    "    #takes same input a as scores and same y as cross entropy\n",
    "    #returns numpy vector with n floats, each row is cross entropy-loss but using a instead of p"
   ]
  },
  {
   "cell_type": "markdown",
   "metadata": {
    "editable": true,
    "slideshow": {
     "slide_type": ""
    },
    "tags": [
     "AST"
    ]
   },
   "source": [
    "### Problem 2.2 (Exam Style)"
   ]
  },
  {
   "cell_type": "markdown",
   "metadata": {
    "editable": true,
    "slideshow": {
     "slide_type": ""
    },
    "tags": [
     "AST"
    ]
   },
   "source": [
    "## Part 3: The General Logistic-Regression Classifier "
   ]
  },
  {
   "cell_type": "code",
   "execution_count": null,
   "metadata": {
    "editable": true,
    "slideshow": {
     "slide_type": ""
    },
    "tags": [
     "AST"
    ]
   },
   "outputs": [],
   "source": [
    "import urllib.request\n",
    "import ssl\n",
    "from os import path as osp\n",
    "import shutil"
   ]
  },
  {
   "cell_type": "code",
   "execution_count": null,
   "metadata": {
    "editable": true,
    "slideshow": {
     "slide_type": ""
    },
    "tags": [
     "AST"
    ]
   },
   "outputs": [],
   "source": [
    "def retrieve(file_name, semester='fall23', homework=6):\n",
    "    if osp.exists(file_name):\n",
    "        print('Using previously downloaded file {}'.format(file_name))\n",
    "    else:\n",
    "        context = ssl._create_unverified_context()\n",
    "        fmt = 'https://www2.cs.duke.edu/courses/{}/compsci371/homework/{}/{}'\n",
    "        url = fmt.format(semester, homework, file_name)\n",
    "        with urllib.request.urlopen(url, context=context) as response:\n",
    "            with open(file_name, 'wb') as file:\n",
    "                shutil.copyfileobj(response, file)\n",
    "        print('Downloaded file {}'.format(file_name))"
   ]
  },
  {
   "cell_type": "code",
   "execution_count": null,
   "metadata": {
    "editable": true,
    "slideshow": {
     "slide_type": ""
    },
    "tags": [
     "AST"
    ]
   },
   "outputs": [],
   "source": [
    "retrieve('sgd.py')\n",
    "from sgd import sgd, step"
   ]
  },
  {
   "cell_type": "code",
   "execution_count": null,
   "metadata": {
    "editable": true,
    "slideshow": {
     "slide_type": ""
    },
    "tags": [
     "AST"
    ]
   },
   "outputs": [],
   "source": [
    "import pickle\n",
    "\n",
    "file_name = 'classification_data.pkl'\n",
    "retrieve(file_name, homework=5)\n",
    "with open(file_name, 'rb') as file:\n",
    "    datasets = pickle.load(file)\n",
    "\n",
    "retrieve('show_data.py', homework=5)\n",
    "from show_data import show_data"
   ]
  },
  {
   "cell_type": "markdown",
   "metadata": {
    "editable": true,
    "slideshow": {
     "slide_type": ""
    },
    "tags": [
     "AST"
    ]
   },
   "source": [
    "### Problem 3.1"
   ]
  },
  {
   "cell_type": "code",
   "execution_count": null,
   "metadata": {
    "editable": true,
    "slideshow": {
     "slide_type": ""
    },
    "tags": [
     "AST"
    ]
   },
   "outputs": [],
   "source": [
    "from autograd import numpy as anp"
   ]
  },
  {
   "cell_type": "markdown",
   "metadata": {
    "editable": true,
    "slideshow": {
     "slide_type": ""
    },
    "tags": [
     "AST"
    ]
   },
   "source": [
    "### Problem 3.2 (Exam Style)"
   ]
  },
  {
   "cell_type": "markdown",
   "metadata": {
    "editable": true,
    "slideshow": {
     "slide_type": ""
    },
    "tags": [
     "AST"
    ]
   },
   "source": [
    "### Problem 3.3 (Exam Style)"
   ]
  },
  {
   "cell_type": "markdown",
   "metadata": {
    "editable": true,
    "slideshow": {
     "slide_type": ""
    },
    "tags": [
     "AST"
    ]
   },
   "source": [
    "## Part 4: Cross-Validation "
   ]
  },
  {
   "cell_type": "code",
   "execution_count": null,
   "metadata": {
    "editable": true,
    "slideshow": {
     "slide_type": ""
    },
    "tags": [
     "AST"
    ]
   },
   "outputs": [],
   "source": [
    "from sklearn.linear_model import LogisticRegression"
   ]
  },
  {
   "cell_type": "code",
   "execution_count": null,
   "metadata": {
    "editable": true,
    "slideshow": {
     "slide_type": ""
    },
    "tags": [
     "AST"
    ]
   },
   "outputs": [],
   "source": [
    "file_name = 'mnist.pickle'\n",
    "retrieve(file_name, homework=2)\n",
    "\n",
    "with open(file_name, 'rb') as file:\n",
    "    mnist = pickle.load(file)"
   ]
  },
  {
   "cell_type": "markdown",
   "metadata": {
    "editable": true,
    "slideshow": {
     "slide_type": ""
    },
    "tags": [
     "AST"
    ]
   },
   "source": [
    "### Problem 4.1"
   ]
  }
 ],
 "metadata": {
  "celltoolbar": "Tags",
  "kernelspec": {
   "display_name": "Python 3.7.6 ('base')",
   "language": "python",
   "name": "python3"
  },
  "language_info": {
   "codemirror_mode": {
    "name": "ipython",
    "version": 3
   },
   "file_extension": ".py",
   "mimetype": "text/x-python",
   "name": "python",
   "nbconvert_exporter": "python",
   "pygments_lexer": "ipython3",
   "version": "3.7.6"
  },
  "pycharm": {
   "stem_cell": {
    "cell_type": "raw",
    "metadata": {
     "collapsed": false
    },
    "source": []
   }
  },
  "vscode": {
   "interpreter": {
    "hash": "81333996758e97eaa3d2fa8b0508a033ada6c2cd645638beea5f0eb0401d74bf"
   }
  }
 },
 "nbformat": 4,
 "nbformat_minor": 4
}
